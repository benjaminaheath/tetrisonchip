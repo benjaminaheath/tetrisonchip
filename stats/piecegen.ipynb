{
 "cells": [
  {
   "cell_type": "code",
   "execution_count": null,
   "metadata": {},
   "outputs": [],
   "source": [
    "import pandas as pd\n",
    "\n",
    "# Load the CSV file\n",
    "file_path = '/tmp/piecesgen.csv'\n",
    "data = pd.read_csv(file_path, header=None)\n",
    "\n",
    "# Display the first few rows of the dataframe\n",
    "print(\"First few rows of the dataset:\")\n",
    "print(data.head())\n",
    "\n",
    "# Assign meaningful column names\n",
    "data.columns = ['Index', 'Values']\n",
    "\n",
    "# Split the 'Values' column into separate columns\n",
    "data['Values'] = data['Values'].str.split(',')\n",
    "data_expanded = data['Values'].apply(pd.Series)\n",
    "\n",
    "# Rename columns for clarity\n",
    "data_expanded.columns = [f'Value_{i}' for i in range(data_expanded.shape[1])]\n",
    "\n",
    "# Combine with the original index column\n",
    "full_data = pd.concat([data['Index'], data_expanded], axis=1)\n",
    "\n",
    "# Display the combined dataset\n",
    "print(\"\\nExpanded dataset:\")\n",
    "print(full_data.head())\n",
    "\n",
    "# Analyze the unique values in the dataset\n",
    "value_counts = pd.concat([full_data[col] for col in full_data.columns if 'Value' in col]).value_counts()\n",
    "print(\"\\nCounts of unique values in the dataset:\")\n",
    "print(value_counts)\n",
    "\n",
    "# Summary statistics for numeric values (if needed)\n",
    "numeric_data = full_data.loc[:, full_data.columns.str.startswith('Value')]\n",
    "numeric_data = numeric_data.apply(pd.to_numeric, errors='coerce')\n",
    "print(\"\\nSummary statistics of numeric values:\")\n",
    "print(numeric_data.describe())\n"
   ]
  }
 ],
 "metadata": {
  "kernelspec": {
   "display_name": "Python 3",
   "language": "python",
   "name": "python3"
  },
  "language_info": {
   "codemirror_mode": {
    "name": "ipython",
    "version": 3
   },
   "file_extension": ".py",
   "mimetype": "text/x-python",
   "name": "python",
   "nbconvert_exporter": "python",
   "pygments_lexer": "ipython3",
   "version": "3.10.12"
  }
 },
 "nbformat": 4,
 "nbformat_minor": 2
}
